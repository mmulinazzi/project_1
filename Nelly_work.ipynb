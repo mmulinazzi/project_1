{
 "cells": [
  {
   "cell_type": "code",
   "execution_count": 1,
   "metadata": {},
   "outputs": [],
   "source": [
    "#%matplotlib notebook\n",
    "# Dependencies and Setup\n",
    "import matplotlib.pyplot as plt\n",
    "import pandas as pd\n",
    "import numpy as np\n",
    "import requests as req\n",
    "import time\n",
    "import json\n",
    "from pprint import pprint"
   ]
  },
  {
   "cell_type": "code",
   "execution_count": 2,
   "metadata": {},
   "outputs": [
    {
     "data": {
      "text/html": [
       "<div>\n",
       "<style scoped>\n",
       "    .dataframe tbody tr th:only-of-type {\n",
       "        vertical-align: middle;\n",
       "    }\n",
       "\n",
       "    .dataframe tbody tr th {\n",
       "        vertical-align: top;\n",
       "    }\n",
       "\n",
       "    .dataframe thead th {\n",
       "        text-align: right;\n",
       "    }\n",
       "</style>\n",
       "<table border=\"1\" class=\"dataframe\">\n",
       "  <thead>\n",
       "    <tr style=\"text-align: right;\">\n",
       "      <th></th>\n",
       "      <th>Unnamed: 0</th>\n",
       "      <th>marketplace</th>\n",
       "      <th>customer_id</th>\n",
       "      <th>review_id</th>\n",
       "      <th>product_id</th>\n",
       "      <th>product_parent</th>\n",
       "      <th>product_title</th>\n",
       "      <th>star_rating</th>\n",
       "      <th>helpful_votes</th>\n",
       "      <th>total_votes</th>\n",
       "      <th>vine</th>\n",
       "      <th>verified_purchase</th>\n",
       "      <th>review_headline</th>\n",
       "      <th>review_date</th>\n",
       "      <th>year</th>\n",
       "    </tr>\n",
       "  </thead>\n",
       "  <tbody>\n",
       "    <tr>\n",
       "      <th>0</th>\n",
       "      <td>0</td>\n",
       "      <td>US</td>\n",
       "      <td>52187079</td>\n",
       "      <td>R22E1FW4RGFOC5</td>\n",
       "      <td>B00EXJM3P4</td>\n",
       "      <td>923528669</td>\n",
       "      <td>LEGO The Hobbit Dol Guldur Battle 79014</td>\n",
       "      <td>5</td>\n",
       "      <td>0</td>\n",
       "      <td>0</td>\n",
       "      <td>N</td>\n",
       "      <td>Y</td>\n",
       "      <td>LOTR + Lego = nirvana....</td>\n",
       "      <td>16452</td>\n",
       "      <td>2015</td>\n",
       "    </tr>\n",
       "    <tr>\n",
       "      <th>1</th>\n",
       "      <td>1</td>\n",
       "      <td>US</td>\n",
       "      <td>38801121</td>\n",
       "      <td>RSKHR5CR97VFJ</td>\n",
       "      <td>B0094J117O</td>\n",
       "      <td>38301932</td>\n",
       "      <td>LEGO® CITY® Museum Break-in &amp; Police Unit w/ S...</td>\n",
       "      <td>5</td>\n",
       "      <td>0</td>\n",
       "      <td>0</td>\n",
       "      <td>N</td>\n",
       "      <td>Y</td>\n",
       "      <td>FUN</td>\n",
       "      <td>16086</td>\n",
       "      <td>2014</td>\n",
       "    </tr>\n",
       "    <tr>\n",
       "      <th>2</th>\n",
       "      <td>2</td>\n",
       "      <td>US</td>\n",
       "      <td>17257015</td>\n",
       "      <td>R12HDWC8E4AM74</td>\n",
       "      <td>B00BG5FYY0</td>\n",
       "      <td>702261848</td>\n",
       "      <td>LEGO Hero Factory 44012 EVO Action Figure Playset</td>\n",
       "      <td>4</td>\n",
       "      <td>1</td>\n",
       "      <td>2</td>\n",
       "      <td>N</td>\n",
       "      <td>Y</td>\n",
       "      <td>ok</td>\n",
       "      <td>16086</td>\n",
       "      <td>2014</td>\n",
       "    </tr>\n",
       "    <tr>\n",
       "      <th>3</th>\n",
       "      <td>3</td>\n",
       "      <td>US</td>\n",
       "      <td>14537742</td>\n",
       "      <td>R1JH6KW5DMZW5O</td>\n",
       "      <td>B00A852QIG</td>\n",
       "      <td>377101347</td>\n",
       "      <td>LEGO DUPLO My First Construction Site 10518</td>\n",
       "      <td>5</td>\n",
       "      <td>0</td>\n",
       "      <td>0</td>\n",
       "      <td>N</td>\n",
       "      <td>Y</td>\n",
       "      <td>Five Stars</td>\n",
       "      <td>16452</td>\n",
       "      <td>2015</td>\n",
       "    </tr>\n",
       "    <tr>\n",
       "      <th>4</th>\n",
       "      <td>4</td>\n",
       "      <td>US</td>\n",
       "      <td>14508692</td>\n",
       "      <td>R2I2XNCOQVZHYS</td>\n",
       "      <td>B00A8O87DA</td>\n",
       "      <td>912541874</td>\n",
       "      <td>LEGO LEGO Hero Factory BREEZ 44006</td>\n",
       "      <td>5</td>\n",
       "      <td>0</td>\n",
       "      <td>0</td>\n",
       "      <td>N</td>\n",
       "      <td>Y</td>\n",
       "      <td>Wonderful</td>\n",
       "      <td>16086</td>\n",
       "      <td>2014</td>\n",
       "    </tr>\n",
       "  </tbody>\n",
       "</table>\n",
       "</div>"
      ],
      "text/plain": [
       "   Unnamed: 0 marketplace  customer_id       review_id  product_id  \\\n",
       "0           0          US     52187079  R22E1FW4RGFOC5  B00EXJM3P4   \n",
       "1           1          US     38801121   RSKHR5CR97VFJ  B0094J117O   \n",
       "2           2          US     17257015  R12HDWC8E4AM74  B00BG5FYY0   \n",
       "3           3          US     14537742  R1JH6KW5DMZW5O  B00A852QIG   \n",
       "4           4          US     14508692  R2I2XNCOQVZHYS  B00A8O87DA   \n",
       "\n",
       "   product_parent                                      product_title  \\\n",
       "0       923528669            LEGO The Hobbit Dol Guldur Battle 79014   \n",
       "1        38301932  LEGO® CITY® Museum Break-in & Police Unit w/ S...   \n",
       "2       702261848  LEGO Hero Factory 44012 EVO Action Figure Playset   \n",
       "3       377101347        LEGO DUPLO My First Construction Site 10518   \n",
       "4       912541874                 LEGO LEGO Hero Factory BREEZ 44006   \n",
       "\n",
       "   star_rating  helpful_votes  total_votes vine verified_purchase  \\\n",
       "0            5              0            0    N                 Y   \n",
       "1            5              0            0    N                 Y   \n",
       "2            4              1            2    N                 Y   \n",
       "3            5              0            0    N                 Y   \n",
       "4            5              0            0    N                 Y   \n",
       "\n",
       "             review_headline  review_date  year  \n",
       "0  LOTR + Lego = nirvana....        16452  2015  \n",
       "1                        FUN        16086  2014  \n",
       "2                         ok        16086  2014  \n",
       "3                 Five Stars        16452  2015  \n",
       "4                  Wonderful        16086  2014  "
      ]
     },
     "execution_count": 2,
     "metadata": {},
     "output_type": "execute_result"
    }
   ],
   "source": [
    "# Read Lego File and store into Pandas data frame\n",
    "legos_df = pd.read_csv(\"Dataset/lego_no_review_df.csv\")\n",
    "legos_df = legos_df[legos_df['year'] >= 2013]\n",
    "legos_df = legos_df[legos_df['marketplace'] != 'JP']\n",
    "legos_df = legos_df.reset_index(drop=True)\n",
    "\n",
    "legos_df.head()"
   ]
  },
  {
   "cell_type": "code",
   "execution_count": 3,
   "metadata": {},
   "outputs": [
    {
     "data": {
      "text/html": [
       "<div>\n",
       "<style scoped>\n",
       "    .dataframe tbody tr th:only-of-type {\n",
       "        vertical-align: middle;\n",
       "    }\n",
       "\n",
       "    .dataframe tbody tr th {\n",
       "        vertical-align: top;\n",
       "    }\n",
       "\n",
       "    .dataframe thead th {\n",
       "        text-align: right;\n",
       "    }\n",
       "</style>\n",
       "<table border=\"1\" class=\"dataframe\">\n",
       "  <thead>\n",
       "    <tr style=\"text-align: right;\">\n",
       "      <th></th>\n",
       "      <th>marketplace</th>\n",
       "      <th>product_title</th>\n",
       "      <th>star_rating</th>\n",
       "    </tr>\n",
       "  </thead>\n",
       "  <tbody>\n",
       "    <tr>\n",
       "      <th>0</th>\n",
       "      <td>US</td>\n",
       "      <td>LEGO The Hobbit Dol Guldur Battle 79014</td>\n",
       "      <td>5</td>\n",
       "    </tr>\n",
       "    <tr>\n",
       "      <th>1</th>\n",
       "      <td>US</td>\n",
       "      <td>LEGO® CITY® Museum Break-in &amp; Police Unit w/ S...</td>\n",
       "      <td>5</td>\n",
       "    </tr>\n",
       "    <tr>\n",
       "      <th>2</th>\n",
       "      <td>US</td>\n",
       "      <td>LEGO Hero Factory 44012 EVO Action Figure Playset</td>\n",
       "      <td>4</td>\n",
       "    </tr>\n",
       "    <tr>\n",
       "      <th>3</th>\n",
       "      <td>US</td>\n",
       "      <td>LEGO DUPLO My First Construction Site 10518</td>\n",
       "      <td>5</td>\n",
       "    </tr>\n",
       "    <tr>\n",
       "      <th>4</th>\n",
       "      <td>US</td>\n",
       "      <td>LEGO LEGO Hero Factory BREEZ 44006</td>\n",
       "      <td>5</td>\n",
       "    </tr>\n",
       "  </tbody>\n",
       "</table>\n",
       "</div>"
      ],
      "text/plain": [
       "  marketplace                                      product_title  star_rating\n",
       "0          US            LEGO The Hobbit Dol Guldur Battle 79014            5\n",
       "1          US  LEGO® CITY® Museum Break-in & Police Unit w/ S...            5\n",
       "2          US  LEGO Hero Factory 44012 EVO Action Figure Playset            4\n",
       "3          US        LEGO DUPLO My First Construction Site 10518            5\n",
       "4          US                 LEGO LEGO Hero Factory BREEZ 44006            5"
      ]
     },
     "execution_count": 3,
     "metadata": {},
     "output_type": "execute_result"
    }
   ],
   "source": [
    "legos_df = legos_df.filter(['marketplace','product_title','star_rating',],axis=1)\n",
    "legos_df.head()"
   ]
  },
  {
   "cell_type": "code",
   "execution_count": 4,
   "metadata": {},
   "outputs": [
    {
     "data": {
      "text/html": [
       "<div>\n",
       "<style scoped>\n",
       "    .dataframe tbody tr th:only-of-type {\n",
       "        vertical-align: middle;\n",
       "    }\n",
       "\n",
       "    .dataframe tbody tr th {\n",
       "        vertical-align: top;\n",
       "    }\n",
       "\n",
       "    .dataframe thead th {\n",
       "        text-align: right;\n",
       "    }\n",
       "</style>\n",
       "<table border=\"1\" class=\"dataframe\">\n",
       "  <thead>\n",
       "    <tr style=\"text-align: right;\">\n",
       "      <th></th>\n",
       "      <th>marketplace</th>\n",
       "      <th>product_title</th>\n",
       "      <th>star_rating</th>\n",
       "    </tr>\n",
       "  </thead>\n",
       "  <tbody>\n",
       "    <tr>\n",
       "      <th>0</th>\n",
       "      <td>US</td>\n",
       "      <td>LEGO The Hobbit Dol Guldur Battle 79014</td>\n",
       "      <td>5</td>\n",
       "    </tr>\n",
       "    <tr>\n",
       "      <th>1</th>\n",
       "      <td>US</td>\n",
       "      <td>LEGO® CITY® Museum Break-in &amp; Police Unit w/ S...</td>\n",
       "      <td>5</td>\n",
       "    </tr>\n",
       "    <tr>\n",
       "      <th>3</th>\n",
       "      <td>US</td>\n",
       "      <td>LEGO DUPLO My First Construction Site 10518</td>\n",
       "      <td>5</td>\n",
       "    </tr>\n",
       "    <tr>\n",
       "      <th>4</th>\n",
       "      <td>US</td>\n",
       "      <td>LEGO LEGO Hero Factory BREEZ 44006</td>\n",
       "      <td>5</td>\n",
       "    </tr>\n",
       "    <tr>\n",
       "      <th>6</th>\n",
       "      <td>US</td>\n",
       "      <td>LEGO DUPLO Deluxe Box of fun 10580 Preschool C...</td>\n",
       "      <td>5</td>\n",
       "    </tr>\n",
       "  </tbody>\n",
       "</table>\n",
       "</div>"
      ],
      "text/plain": [
       "  marketplace                                      product_title  star_rating\n",
       "0          US            LEGO The Hobbit Dol Guldur Battle 79014            5\n",
       "1          US  LEGO® CITY® Museum Break-in & Police Unit w/ S...            5\n",
       "3          US        LEGO DUPLO My First Construction Site 10518            5\n",
       "4          US                 LEGO LEGO Hero Factory BREEZ 44006            5\n",
       "6          US  LEGO DUPLO Deluxe Box of fun 10580 Preschool C...            5"
      ]
     },
     "execution_count": 4,
     "metadata": {},
     "output_type": "execute_result"
    }
   ],
   "source": [
    "Total_Fivestar_rating = legos_df[legos_df[\"star_rating\"]== 5 ]\n",
    "\n",
    "Total_Fivestar_rating.head(5)"
   ]
  },
  {
   "cell_type": "code",
   "execution_count": 5,
   "metadata": {},
   "outputs": [
    {
     "data": {
      "text/html": [
       "<div>\n",
       "<style scoped>\n",
       "    .dataframe tbody tr th:only-of-type {\n",
       "        vertical-align: middle;\n",
       "    }\n",
       "\n",
       "    .dataframe tbody tr th {\n",
       "        vertical-align: top;\n",
       "    }\n",
       "\n",
       "    .dataframe thead th {\n",
       "        text-align: right;\n",
       "    }\n",
       "</style>\n",
       "<table border=\"1\" class=\"dataframe\">\n",
       "  <thead>\n",
       "    <tr style=\"text-align: right;\">\n",
       "      <th></th>\n",
       "      <th>marketplace</th>\n",
       "      <th>product_title</th>\n",
       "      <th>star_rating</th>\n",
       "    </tr>\n",
       "  </thead>\n",
       "  <tbody>\n",
       "    <tr>\n",
       "      <th>83</th>\n",
       "      <td>DE</td>\n",
       "      <td>LEGO Creator 10220 - Volkswagen T1 Campingbus</td>\n",
       "      <td>5</td>\n",
       "    </tr>\n",
       "    <tr>\n",
       "      <th>221</th>\n",
       "      <td>DE</td>\n",
       "      <td>LEGO Technic 8110 - Unimog U400</td>\n",
       "      <td>5</td>\n",
       "    </tr>\n",
       "    <tr>\n",
       "      <th>275</th>\n",
       "      <td>DE</td>\n",
       "      <td>LEGO Creator 10220 - Volkswagen T1 Campingbus</td>\n",
       "      <td>5</td>\n",
       "    </tr>\n",
       "    <tr>\n",
       "      <th>610</th>\n",
       "      <td>DE</td>\n",
       "      <td>LEGO Technic 8110 - Unimog U400</td>\n",
       "      <td>5</td>\n",
       "    </tr>\n",
       "    <tr>\n",
       "      <th>1070</th>\n",
       "      <td>DE</td>\n",
       "      <td>LEGO Technic 8110 - Unimog U400</td>\n",
       "      <td>5</td>\n",
       "    </tr>\n",
       "  </tbody>\n",
       "</table>\n",
       "</div>"
      ],
      "text/plain": [
       "     marketplace                                  product_title  star_rating\n",
       "83            DE  LEGO Creator 10220 - Volkswagen T1 Campingbus            5\n",
       "221           DE                LEGO Technic 8110 - Unimog U400            5\n",
       "275           DE  LEGO Creator 10220 - Volkswagen T1 Campingbus            5\n",
       "610           DE                LEGO Technic 8110 - Unimog U400            5\n",
       "1070          DE                LEGO Technic 8110 - Unimog U400            5"
      ]
     },
     "execution_count": 5,
     "metadata": {},
     "output_type": "execute_result"
    }
   ],
   "source": [
    "DE_only = Total_Fivestar_rating[Total_Fivestar_rating['marketplace'] =='DE']\n",
    "\n",
    "DE_only.head(5)"
   ]
  },
  {
   "cell_type": "code",
   "execution_count": 6,
   "metadata": {},
   "outputs": [
    {
     "data": {
      "text/plain": [
       "product_title\n",
       "LEGO 10193 - Mittelalterlicher Marktplatz                               2\n",
       "LEGO 21103 zurück in die zukunft – Der Delorean Time Machine           18\n",
       "LEGO 6863 Super Heroes Batwing Kampf über Gotham City                   5\n",
       "LEGO 6864 - Super Heroes: Batman - Batmobil und Two-Face Verfolgung     1\n",
       "LEGO 75055 IMPERIAL STAR DESTROYER                                      2\n",
       "Name: product_title, dtype: int64"
      ]
     },
     "execution_count": 6,
     "metadata": {},
     "output_type": "execute_result"
    }
   ],
   "source": [
    "DE_only_products = DE_only.groupby(['product_title'])['product_title'].count()\n",
    "DE_only_products.head(5)"
   ]
  },
  {
   "cell_type": "code",
   "execution_count": 7,
   "metadata": {
    "scrolled": true
   },
   "outputs": [
    {
     "data": {
      "text/html": [
       "<div>\n",
       "<style scoped>\n",
       "    .dataframe tbody tr th:only-of-type {\n",
       "        vertical-align: middle;\n",
       "    }\n",
       "\n",
       "    .dataframe tbody tr th {\n",
       "        vertical-align: top;\n",
       "    }\n",
       "\n",
       "    .dataframe thead th {\n",
       "        text-align: right;\n",
       "    }\n",
       "</style>\n",
       "<table border=\"1\" class=\"dataframe\">\n",
       "  <thead>\n",
       "    <tr style=\"text-align: right;\">\n",
       "      <th></th>\n",
       "      <th>product_title</th>\n",
       "      <th>product_title Count</th>\n",
       "    </tr>\n",
       "  </thead>\n",
       "  <tbody>\n",
       "    <tr>\n",
       "      <th>0</th>\n",
       "      <td>LEGO 10193 - Mittelalterlicher Marktplatz</td>\n",
       "      <td>2</td>\n",
       "    </tr>\n",
       "    <tr>\n",
       "      <th>1</th>\n",
       "      <td>LEGO 21103 zurück in die zukunft – Der Delorea...</td>\n",
       "      <td>18</td>\n",
       "    </tr>\n",
       "    <tr>\n",
       "      <th>2</th>\n",
       "      <td>LEGO 6863 Super Heroes Batwing Kampf über Goth...</td>\n",
       "      <td>5</td>\n",
       "    </tr>\n",
       "    <tr>\n",
       "      <th>3</th>\n",
       "      <td>LEGO 6864 - Super Heroes: Batman - Batmobil un...</td>\n",
       "      <td>1</td>\n",
       "    </tr>\n",
       "    <tr>\n",
       "      <th>4</th>\n",
       "      <td>LEGO 75055 IMPERIAL STAR DESTROYER</td>\n",
       "      <td>2</td>\n",
       "    </tr>\n",
       "  </tbody>\n",
       "</table>\n",
       "</div>"
      ],
      "text/plain": [
       "                                       product_title  product_title Count\n",
       "0          LEGO 10193 - Mittelalterlicher Marktplatz                    2\n",
       "1  LEGO 21103 zurück in die zukunft – Der Delorea...                   18\n",
       "2  LEGO 6863 Super Heroes Batwing Kampf über Goth...                    5\n",
       "3  LEGO 6864 - Super Heroes: Batman - Batmobil un...                    1\n",
       "4                 LEGO 75055 IMPERIAL STAR DESTROYER                    2"
      ]
     },
     "execution_count": 7,
     "metadata": {},
     "output_type": "execute_result"
    }
   ],
   "source": [
    "DE_only_products_df = pd.DataFrame({'product_title':DE_only_products.index, 'product_title Count':DE_only_products.values})\n",
    "DE_only_products_df.head(5)"
   ]
  },
  {
   "cell_type": "code",
   "execution_count": 8,
   "metadata": {},
   "outputs": [
    {
     "data": {
      "text/html": [
       "<div>\n",
       "<style scoped>\n",
       "    .dataframe tbody tr th:only-of-type {\n",
       "        vertical-align: middle;\n",
       "    }\n",
       "\n",
       "    .dataframe tbody tr th {\n",
       "        vertical-align: top;\n",
       "    }\n",
       "\n",
       "    .dataframe thead th {\n",
       "        text-align: right;\n",
       "    }\n",
       "</style>\n",
       "<table border=\"1\" class=\"dataframe\">\n",
       "  <thead>\n",
       "    <tr style=\"text-align: right;\">\n",
       "      <th></th>\n",
       "      <th>product_title</th>\n",
       "      <th>product_title Count</th>\n",
       "    </tr>\n",
       "  </thead>\n",
       "  <tbody>\n",
       "    <tr>\n",
       "      <th>53</th>\n",
       "      <td>LEGO Technic 8110 - Unimog U400</td>\n",
       "      <td>121</td>\n",
       "    </tr>\n",
       "    <tr>\n",
       "      <th>13</th>\n",
       "      <td>LEGO Creator 10220 - Volkswagen T1 Campingbus</td>\n",
       "      <td>114</td>\n",
       "    </tr>\n",
       "    <tr>\n",
       "      <th>49</th>\n",
       "      <td>LEGO Technic 42030 - VOLVO L350F Radlader</td>\n",
       "      <td>64</td>\n",
       "    </tr>\n",
       "    <tr>\n",
       "      <th>23</th>\n",
       "      <td>LEGO DUPLO 10505 - Familienhaus</td>\n",
       "      <td>60</td>\n",
       "    </tr>\n",
       "    <tr>\n",
       "      <th>12</th>\n",
       "      <td>LEGO City 7499 - Flexible Schienen</td>\n",
       "      <td>54</td>\n",
       "    </tr>\n",
       "  </tbody>\n",
       "</table>\n",
       "</div>"
      ],
      "text/plain": [
       "                                    product_title  product_title Count\n",
       "53                LEGO Technic 8110 - Unimog U400                  121\n",
       "13  LEGO Creator 10220 - Volkswagen T1 Campingbus                  114\n",
       "49      LEGO Technic 42030 - VOLVO L350F Radlader                   64\n",
       "23                LEGO DUPLO 10505 - Familienhaus                   60\n",
       "12             LEGO City 7499 - Flexible Schienen                   54"
      ]
     },
     "execution_count": 8,
     "metadata": {},
     "output_type": "execute_result"
    }
   ],
   "source": [
    "DE_only_products_df = DE_only_products_df.sort_values(by='product_title Count',ascending=False)\n",
    "DE_only_products_df.head(5)"
   ]
  },
  {
   "cell_type": "code",
   "execution_count": 9,
   "metadata": {},
   "outputs": [
    {
     "data": {
      "text/html": [
       "<div>\n",
       "<style scoped>\n",
       "    .dataframe tbody tr th:only-of-type {\n",
       "        vertical-align: middle;\n",
       "    }\n",
       "\n",
       "    .dataframe tbody tr th {\n",
       "        vertical-align: top;\n",
       "    }\n",
       "\n",
       "    .dataframe thead th {\n",
       "        text-align: right;\n",
       "    }\n",
       "</style>\n",
       "<table border=\"1\" class=\"dataframe\">\n",
       "  <thead>\n",
       "    <tr style=\"text-align: right;\">\n",
       "      <th></th>\n",
       "      <th>product_title</th>\n",
       "      <th>product_title Count</th>\n",
       "    </tr>\n",
       "  </thead>\n",
       "  <tbody>\n",
       "    <tr>\n",
       "      <th>0</th>\n",
       "      <td>LEGO Technic 8110 - Unimog U400</td>\n",
       "      <td>121</td>\n",
       "    </tr>\n",
       "    <tr>\n",
       "      <th>1</th>\n",
       "      <td>LEGO Creator 10220 - Volkswagen T1 Campingbus</td>\n",
       "      <td>114</td>\n",
       "    </tr>\n",
       "    <tr>\n",
       "      <th>2</th>\n",
       "      <td>LEGO Technic 42030 - VOLVO L350F Radlader</td>\n",
       "      <td>64</td>\n",
       "    </tr>\n",
       "    <tr>\n",
       "      <th>3</th>\n",
       "      <td>LEGO DUPLO 10505 - Familienhaus</td>\n",
       "      <td>60</td>\n",
       "    </tr>\n",
       "    <tr>\n",
       "      <th>4</th>\n",
       "      <td>LEGO City 7499 - Flexible Schienen</td>\n",
       "      <td>54</td>\n",
       "    </tr>\n",
       "  </tbody>\n",
       "</table>\n",
       "</div>"
      ],
      "text/plain": [
       "                                   product_title  product_title Count\n",
       "0                LEGO Technic 8110 - Unimog U400                  121\n",
       "1  LEGO Creator 10220 - Volkswagen T1 Campingbus                  114\n",
       "2      LEGO Technic 42030 - VOLVO L350F Radlader                   64\n",
       "3                LEGO DUPLO 10505 - Familienhaus                   60\n",
       "4             LEGO City 7499 - Flexible Schienen                   54"
      ]
     },
     "execution_count": 9,
     "metadata": {},
     "output_type": "execute_result"
    }
   ],
   "source": [
    "DE_only_products_df = DE_only_products_df.reset_index(drop=True)\n",
    "DE_only_products_df.head(5)"
   ]
  },
  {
   "cell_type": "code",
   "execution_count": 10,
   "metadata": {},
   "outputs": [
    {
     "data": {
      "text/html": [
       "<div>\n",
       "<style scoped>\n",
       "    .dataframe tbody tr th:only-of-type {\n",
       "        vertical-align: middle;\n",
       "    }\n",
       "\n",
       "    .dataframe tbody tr th {\n",
       "        vertical-align: top;\n",
       "    }\n",
       "\n",
       "    .dataframe thead th {\n",
       "        text-align: right;\n",
       "    }\n",
       "</style>\n",
       "<table border=\"1\" class=\"dataframe\">\n",
       "  <thead>\n",
       "    <tr style=\"text-align: right;\">\n",
       "      <th></th>\n",
       "      <th>product_title</th>\n",
       "      <th>product_title Count</th>\n",
       "    </tr>\n",
       "  </thead>\n",
       "  <tbody>\n",
       "    <tr>\n",
       "      <th>0</th>\n",
       "      <td>LEGO The DeLorean Time Machine Building Set 21...</td>\n",
       "      <td>1492</td>\n",
       "    </tr>\n",
       "    <tr>\n",
       "      <th>1</th>\n",
       "      <td>LEGO Minecraft, Micro World 21102 (Discontinue...</td>\n",
       "      <td>1336</td>\n",
       "    </tr>\n",
       "    <tr>\n",
       "      <th>2</th>\n",
       "      <td>LEGO Ghostbusters Ecto-1 21108</td>\n",
       "      <td>924</td>\n",
       "    </tr>\n",
       "    <tr>\n",
       "      <th>3</th>\n",
       "      <td>LEGO Minecraft The Nether 21106</td>\n",
       "      <td>912</td>\n",
       "    </tr>\n",
       "    <tr>\n",
       "      <th>4</th>\n",
       "      <td>LEGO Minecraft Micro World The Village 21105 (...</td>\n",
       "      <td>902</td>\n",
       "    </tr>\n",
       "  </tbody>\n",
       "</table>\n",
       "</div>"
      ],
      "text/plain": [
       "                                       product_title  product_title Count\n",
       "0  LEGO The DeLorean Time Machine Building Set 21...                 1492\n",
       "1  LEGO Minecraft, Micro World 21102 (Discontinue...                 1336\n",
       "2                     LEGO Ghostbusters Ecto-1 21108                  924\n",
       "3                    LEGO Minecraft The Nether 21106                  912\n",
       "4  LEGO Minecraft Micro World The Village 21105 (...                  902"
      ]
     },
     "execution_count": 10,
     "metadata": {},
     "output_type": "execute_result"
    }
   ],
   "source": [
    "US_only = Total_Fivestar_rating[Total_Fivestar_rating['marketplace'] =='US']\n",
    "US_only_products = US_only.groupby(['product_title'])['product_title'].count()\n",
    "US_only_products_df = pd.DataFrame({'product_title':US_only_products.index, 'product_title Count':US_only_products.values})\n",
    "US_only_products_df = US_only_products_df.sort_values(by='product_title Count',ascending=False)\n",
    "US_only_products_df = US_only_products_df.reset_index(drop=True)\n",
    "US_only_products_df.head(5)"
   ]
  },
  {
   "cell_type": "code",
   "execution_count": 11,
   "metadata": {},
   "outputs": [
    {
     "name": "stderr",
     "output_type": "stream",
     "text": [
      "C:\\Users\\nelly\\Anaconda3\\lib\\site-packages\\ipykernel_launcher.py:2: SettingWithCopyWarning: \n",
      "A value is trying to be set on a copy of a slice from a DataFrame.\n",
      "Try using .loc[row_indexer,col_indexer] = value instead\n",
      "\n",
      "See the caveats in the documentation: http://pandas.pydata.org/pandas-docs/stable/indexing.html#indexing-view-versus-copy\n",
      "  \n"
     ]
    },
    {
     "data": {
      "text/plain": [
       "Text(0.5,1,'Five Top Legos in the US')"
      ]
     },
     "execution_count": 11,
     "metadata": {},
     "output_type": "execute_result"
    },
    {
     "data": {
      "image/png": "[encoded data removed]",
      "text/plain": [
       "<Figure size 432x288 with 1 Axes>"
      ]
     },
     "metadata": {},
     "output_type": "display_data"
    }
   ],
   "source": [
    "US_only_products_df2 = US_only_products_df.head(5)\n",
    "US_only_products_df2['Producttitle'] = (['The DeLorean Time Machine','Minecraft Micro World','Ghostbusters Ecto-1','Minecraft The Nethe','Minecraft Micro World The Village'])\n",
    "US_only_products_df2\n",
    "US_only_products_df2=US_only_products_df2.plot(kind='barh',x='Producttitle',y='product_title Count',color='blue').legend('US')\n",
    "plt.xlabel('US')\n",
    "plt.ylabel('product_title Count')\n",
    "plt.title('Five Top Legos in the US')"
   ]
  },
  {
   "cell_type": "code",
   "execution_count": 12,
   "metadata": {},
   "outputs": [
    {
     "data": {
      "text/html": [
       "<div>\n",
       "<style scoped>\n",
       "    .dataframe tbody tr th:only-of-type {\n",
       "        vertical-align: middle;\n",
       "    }\n",
       "\n",
       "    .dataframe tbody tr th {\n",
       "        vertical-align: top;\n",
       "    }\n",
       "\n",
       "    .dataframe thead th {\n",
       "        text-align: right;\n",
       "    }\n",
       "</style>\n",
       "<table border=\"1\" class=\"dataframe\">\n",
       "  <thead>\n",
       "    <tr style=\"text-align: right;\">\n",
       "      <th></th>\n",
       "      <th>product_title</th>\n",
       "      <th>product_title Count</th>\n",
       "    </tr>\n",
       "  </thead>\n",
       "  <tbody>\n",
       "    <tr>\n",
       "      <th>0</th>\n",
       "      <td>LEGO Star Wars 75056 LEGO Star Wars Advent Cal...</td>\n",
       "      <td>205</td>\n",
       "    </tr>\n",
       "    <tr>\n",
       "      <th>1</th>\n",
       "      <td>LEGO City 60063 LEGO City Advent Calendar</td>\n",
       "      <td>176</td>\n",
       "    </tr>\n",
       "    <tr>\n",
       "      <th>2</th>\n",
       "      <td>LEGO Friends 41015 Dolphin Cruiser</td>\n",
       "      <td>141</td>\n",
       "    </tr>\n",
       "    <tr>\n",
       "      <th>3</th>\n",
       "      <td>LEGO Technic 42002: Hovercraft</td>\n",
       "      <td>133</td>\n",
       "    </tr>\n",
       "    <tr>\n",
       "      <th>4</th>\n",
       "      <td>LEGO Friends 3315: Olivia's House</td>\n",
       "      <td>130</td>\n",
       "    </tr>\n",
       "  </tbody>\n",
       "</table>\n",
       "</div>"
      ],
      "text/plain": [
       "                                       product_title  product_title Count\n",
       "0  LEGO Star Wars 75056 LEGO Star Wars Advent Cal...                  205\n",
       "1          LEGO City 60063 LEGO City Advent Calendar                  176\n",
       "2                 LEGO Friends 41015 Dolphin Cruiser                  141\n",
       "3                     LEGO Technic 42002: Hovercraft                  133\n",
       "4                  LEGO Friends 3315: Olivia's House                  130"
      ]
     },
     "execution_count": 12,
     "metadata": {},
     "output_type": "execute_result"
    }
   ],
   "source": [
    "UK_only = Total_Fivestar_rating[Total_Fivestar_rating['marketplace'] =='UK']\n",
    "UK_only_products = UK_only.groupby(['product_title'])['product_title'].count()\n",
    "UK_only_products_df = pd.DataFrame({'product_title':UK_only_products.index, 'product_title Count':UK_only_products.values})\n",
    "UK_only_products_df = UK_only_products_df.sort_values(by='product_title Count',ascending=False)\n",
    "UK_only_products_df = UK_only_products_df.reset_index(drop=True)\n",
    "UK_only_products_df.head(5)"
   ]
  },
  {
   "cell_type": "code",
   "execution_count": 13,
   "metadata": {},
   "outputs": [
    {
     "name": "stderr",
     "output_type": "stream",
     "text": [
      "C:\\Users\\nelly\\Anaconda3\\lib\\site-packages\\ipykernel_launcher.py:2: SettingWithCopyWarning: \n",
      "A value is trying to be set on a copy of a slice from a DataFrame.\n",
      "Try using .loc[row_indexer,col_indexer] = value instead\n",
      "\n",
      "See the caveats in the documentation: http://pandas.pydata.org/pandas-docs/stable/indexing.html#indexing-view-versus-copy\n",
      "  \n"
     ]
    },
    {
     "data": {
      "text/plain": [
       "Text(0.5,1,'Five Top Legos in the UK')"
      ]
     },
     "execution_count": 13,
     "metadata": {},
     "output_type": "execute_result"
    },
    {
     "data": {
      "image/png": "[encoded data removed]",
      "text/plain": [
       "<Figure size 432x288 with 1 Axes>"
      ]
     },
     "metadata": {},
     "output_type": "display_data"
    }
   ],
   "source": [
    "UK_only_products_df2 = UK_only_products_df.head(5)\n",
    "UK_only_products_df2['Producttitle'] = (['Lego Star Wars','Lego City','Dolphine Cruiser','Lego Hovercraft','Lego Olivia House'])\n",
    "UK_only_products_df2\n",
    "UK_only_products_df2=UK_only_products_df2.plot(kind='barh',x='Producttitle',y='product_title Count',color='green').legend('UK')\n",
    "plt.xlabel('UK')\n",
    "plt.ylabel('product_title Count')\n",
    "plt.title('Five Top Legos in the UK')"
   ]
  },
  {
   "cell_type": "code",
   "execution_count": 14,
   "metadata": {},
   "outputs": [
    {
     "data": {
      "text/html": [
       "<div>\n",
       "<style scoped>\n",
       "    .dataframe tbody tr th:only-of-type {\n",
       "        vertical-align: middle;\n",
       "    }\n",
       "\n",
       "    .dataframe tbody tr th {\n",
       "        vertical-align: top;\n",
       "    }\n",
       "\n",
       "    .dataframe thead th {\n",
       "        text-align: right;\n",
       "    }\n",
       "</style>\n",
       "<table border=\"1\" class=\"dataframe\">\n",
       "  <thead>\n",
       "    <tr style=\"text-align: right;\">\n",
       "      <th></th>\n",
       "      <th>product_title</th>\n",
       "      <th>product_title Count</th>\n",
       "    </tr>\n",
       "  </thead>\n",
       "  <tbody>\n",
       "    <tr>\n",
       "      <th>0</th>\n",
       "      <td>LEGO Star Wars - 7965 - Jeu de Construction - ...</td>\n",
       "      <td>94</td>\n",
       "    </tr>\n",
       "    <tr>\n",
       "      <th>1</th>\n",
       "      <td>LEGO Friends - 41015 - Jeu de Construction - L...</td>\n",
       "      <td>64</td>\n",
       "    </tr>\n",
       "    <tr>\n",
       "      <th>2</th>\n",
       "      <td>LEGO Star Wars - 9493 - Jeu de Construction - ...</td>\n",
       "      <td>64</td>\n",
       "    </tr>\n",
       "    <tr>\n",
       "      <th>3</th>\n",
       "      <td>LEGO Friends - 3315 - Jeu de Construction - La...</td>\n",
       "      <td>53</td>\n",
       "    </tr>\n",
       "    <tr>\n",
       "      <th>4</th>\n",
       "      <td>LEGO Technic - 9398 - Jeu de Construction - Le...</td>\n",
       "      <td>50</td>\n",
       "    </tr>\n",
       "  </tbody>\n",
       "</table>\n",
       "</div>"
      ],
      "text/plain": [
       "                                       product_title  product_title Count\n",
       "0  LEGO Star Wars - 7965 - Jeu de Construction - ...                   94\n",
       "1  LEGO Friends - 41015 - Jeu de Construction - L...                   64\n",
       "2  LEGO Star Wars - 9493 - Jeu de Construction - ...                   64\n",
       "3  LEGO Friends - 3315 - Jeu de Construction - La...                   53\n",
       "4  LEGO Technic - 9398 - Jeu de Construction - Le...                   50"
      ]
     },
     "execution_count": 14,
     "metadata": {},
     "output_type": "execute_result"
    }
   ],
   "source": [
    "FR_only = Total_Fivestar_rating[Total_Fivestar_rating['marketplace'] =='FR']\n",
    "FR_only_products = FR_only.groupby(['product_title'])['product_title'].count()\n",
    "FR_only_products_df = pd.DataFrame({'product_title':FR_only_products.index, 'product_title Count':FR_only_products.values})\n",
    "FR_only_products_df = FR_only_products_df.sort_values(by='product_title Count',ascending=False)\n",
    "FR_only_products_df = FR_only_products_df.reset_index(drop=True)\n",
    "FR_only_products_df.head(5)"
   ]
  },
  {
   "cell_type": "code",
   "execution_count": 15,
   "metadata": {},
   "outputs": [
    {
     "name": "stderr",
     "output_type": "stream",
     "text": [
      "C:\\Users\\nelly\\Anaconda3\\lib\\site-packages\\ipykernel_launcher.py:2: SettingWithCopyWarning: \n",
      "A value is trying to be set on a copy of a slice from a DataFrame.\n",
      "Try using .loc[row_indexer,col_indexer] = value instead\n",
      "\n",
      "See the caveats in the documentation: http://pandas.pydata.org/pandas-docs/stable/indexing.html#indexing-view-versus-copy\n",
      "  \n"
     ]
    },
    {
     "data": {
      "text/plain": [
       "Text(0.5,1,'Five Top Legos in France')"
      ]
     },
     "execution_count": 15,
     "metadata": {},
     "output_type": "execute_result"
    },
    {
     "data": {
      "image/png": "[encoded data removed]",
      "text/plain": [
       "<Figure size 432x288 with 1 Axes>"
      ]
     },
     "metadata": {},
     "output_type": "display_data"
    }
   ],
   "source": [
    "FR_only_products_df2 = FR_only_products_df.head(5)\n",
    "FR_only_products_df2['Producttitle'] = (['Star Wars 7965','Lego Friends 41015','Star Wars 9493','Lego Friends 3315','Lego Technic 9398'])\n",
    "FR_only_products_df2\n",
    "FR_only_products_df2=FR_only_products_df2.plot(kind='barh',x='Producttitle',y='product_title Count',color='yellow').legend('FR')\n",
    "plt.xlabel('FR')\n",
    "plt.ylabel('product_title Count')\n",
    "plt.title('Five Top Legos in France')"
   ]
  },
  {
   "cell_type": "code",
   "execution_count": 16,
   "metadata": {},
   "outputs": [
    {
     "data": {
      "text/html": [
       "<div>\n",
       "<style scoped>\n",
       "    .dataframe tbody tr th:only-of-type {\n",
       "        vertical-align: middle;\n",
       "    }\n",
       "\n",
       "    .dataframe tbody tr th {\n",
       "        vertical-align: top;\n",
       "    }\n",
       "\n",
       "    .dataframe thead th {\n",
       "        text-align: right;\n",
       "    }\n",
       "</style>\n",
       "<table border=\"1\" class=\"dataframe\">\n",
       "  <thead>\n",
       "    <tr style=\"text-align: right;\">\n",
       "      <th></th>\n",
       "      <th>product_title</th>\n",
       "      <th>product_title Count</th>\n",
       "    </tr>\n",
       "  </thead>\n",
       "  <tbody>\n",
       "    <tr>\n",
       "      <th>0</th>\n",
       "      <td>LEGO Technic 8110 - Unimog U400</td>\n",
       "      <td>121</td>\n",
       "    </tr>\n",
       "    <tr>\n",
       "      <th>1</th>\n",
       "      <td>LEGO Creator 10220 - Volkswagen T1 Campingbus</td>\n",
       "      <td>114</td>\n",
       "    </tr>\n",
       "    <tr>\n",
       "      <th>2</th>\n",
       "      <td>LEGO Technic 42030 - VOLVO L350F Radlader</td>\n",
       "      <td>64</td>\n",
       "    </tr>\n",
       "    <tr>\n",
       "      <th>3</th>\n",
       "      <td>LEGO DUPLO 10505 - Familienhaus</td>\n",
       "      <td>60</td>\n",
       "    </tr>\n",
       "    <tr>\n",
       "      <th>4</th>\n",
       "      <td>LEGO City 7499 - Flexible Schienen</td>\n",
       "      <td>54</td>\n",
       "    </tr>\n",
       "  </tbody>\n",
       "</table>\n",
       "</div>"
      ],
      "text/plain": [
       "                                   product_title  product_title Count\n",
       "0                LEGO Technic 8110 - Unimog U400                  121\n",
       "1  LEGO Creator 10220 - Volkswagen T1 Campingbus                  114\n",
       "2      LEGO Technic 42030 - VOLVO L350F Radlader                   64\n",
       "3                LEGO DUPLO 10505 - Familienhaus                   60\n",
       "4             LEGO City 7499 - Flexible Schienen                   54"
      ]
     },
     "execution_count": 16,
     "metadata": {},
     "output_type": "execute_result"
    }
   ],
   "source": [
    "DE_only = Total_Fivestar_rating[Total_Fivestar_rating['marketplace'] =='DE']\n",
    "DE_only_products = DE_only.groupby(['product_title'])['product_title'].count()\n",
    "DE_only_products_df = pd.DataFrame({'product_title':DE_only_products.index, 'product_title Count':DE_only_products.values})\n",
    "DE_only_products_df = DE_only_products_df.sort_values(by='product_title Count',ascending=False)\n",
    "DE_only_products_df = DE_only_products_df.reset_index(drop=True)\n",
    "DE_only_products_df.head(5)"
   ]
  },
  {
   "cell_type": "code",
   "execution_count": 17,
   "metadata": {},
   "outputs": [
    {
     "name": "stderr",
     "output_type": "stream",
     "text": [
      "C:\\Users\\nelly\\Anaconda3\\lib\\site-packages\\ipykernel_launcher.py:2: SettingWithCopyWarning: \n",
      "A value is trying to be set on a copy of a slice from a DataFrame.\n",
      "Try using .loc[row_indexer,col_indexer] = value instead\n",
      "\n",
      "See the caveats in the documentation: http://pandas.pydata.org/pandas-docs/stable/indexing.html#indexing-view-versus-copy\n",
      "  \n"
     ]
    },
    {
     "data": {
      "text/plain": [
       "Text(0.5,1,'Five Top Legos in Denmark')"
      ]
     },
     "execution_count": 17,
     "metadata": {},
     "output_type": "execute_result"
    },
    {
     "data": {
      "image/png": "[encoded data removed]",
      "text/plain": [
       "<Figure size 432x288 with 1 Axes>"
      ]
     },
     "metadata": {},
     "output_type": "display_data"
    }
   ],
   "source": [
    "DE_only_products_df2 = DE_only_products_df.head(5)\n",
    "DE_only_products_df2['Producttitle'] = (['Unimog U400','Lego Volkswagen','Lego Volvo','Lego Familienhaus','Lego Flexible Schienen'])\n",
    "DE_only_products_df2\n",
    "DE_only_products_df2=DE_only_products_df2.plot(kind='barh',x='Producttitle',y='product_title Count',color='red').legend('DE')\n",
    "plt.xlabel('DE')\n",
    "plt.ylabel('product_title Count')\n",
    "plt.title('Five Top Legos in Denmark')"
   ]
  },
  {
   "cell_type": "code",
   "execution_count": null,
   "metadata": {},
   "outputs": [],
   "source": []
  },
  {
   "cell_type": "code",
   "execution_count": null,
   "metadata": {},
   "outputs": [],
   "source": []
  },
  {
   "cell_type": "code",
   "execution_count": null,
   "metadata": {},
   "outputs": [],
   "source": []
  },
  {
   "cell_type": "code",
   "execution_count": 18,
   "metadata": {},
   "outputs": [],
   "source": [
    "# What are the top five Lego for each of the four countries(DE, FR,UK,US) "
   ]
  }
 ],
 "metadata": {
  "kernelspec": {
   "display_name": "Python 3",
   "language": "python",
   "name": "python3"
  },
  "language_info": {
   "codemirror_mode": {
    "name": "ipython",
    "version": 3
   },
   "file_extension": ".py",
   "mimetype": "text/x-python",
   "name": "python",
   "nbconvert_exporter": "python",
   "pygments_lexer": "ipython3",
   "version": "3.6.5"
  }
 },
 "nbformat": 4,
 "nbformat_minor": 2
}
